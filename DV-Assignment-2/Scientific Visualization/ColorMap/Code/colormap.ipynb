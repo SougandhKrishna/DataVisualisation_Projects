{
  "cells": [
    {
      "cell_type": "code",
      "execution_count": 1,
      "metadata": {
        "id": "diUIIpgzsH4m"
      },
      "outputs": [],
      "source": [
        "# !pip install cartopy\n",
        "# import cartopy"
      ]
    },
    {
      "cell_type": "code",
      "execution_count": 2,
      "metadata": {
        "id": "nHjqTDwVqRG9"
      },
      "outputs": [],
      "source": [
        "import matplotlib.pyplot as plt\n",
        "import numpy as np\n",
        "import cartopy.feature as cfeature\n",
        "import cartopy.crs as ccrs\n",
        "import glob\n",
        "from PIL import Image"
      ]
    },
    {
      "cell_type": "code",
      "execution_count": 3,
      "metadata": {
        "colab": {
          "base_uri": "https://localhost:8080/"
        },
        "id": "0VDIG4cArjm3",
        "outputId": "d32ab0d3-4d2f-4a8b-f126-9aaabc5684e8"
      },
      "outputs": [
        {
          "name": "stdout",
          "output_type": "stream",
          "text": [
            "Drive already mounted at /content/drive; to attempt to forcibly remount, call drive.mount(\"/content/drive\", force_remount=True).\n"
          ]
        }
      ],
      "source": [
        "from google.colab import drive\n",
        "drive.mount('/content/drive')\n",
        "# \"/content/drive/MyDrive/DV_Dataset/*\""
      ]
    },
    {
      "cell_type": "code",
      "execution_count": 4,
      "metadata": {
        "id": "nB7I63lUqSS8"
      },
      "outputs": [],
      "source": [
        "def get_mins(filepath:str):\n",
        "    '''\n",
        "    Processes a ascii file with gridded data to obtain the required value in the form of [latitude, longitude, value.\n",
        "        Args:\n",
        "            filepath: str\n",
        "        Returns:\n",
        "            metadata: Dict\n",
        "            values: List[List[float]]\n",
        "    '''\n",
        "    metadata = {}\n",
        "    longitudes = []\n",
        "    values = []\n",
        "    sizes = []\n",
        "    i = 0\n",
        "    with open(filepath, 'r') as file:\n",
        "        for line in file:\n",
        "            line = line.strip()\n",
        "            if i == 0: metadata[\"varname\"] = line.split(\":\")[1].strip()\n",
        "            if i == 1: metadata[\"filename\"] = line.split(\":\")[1].strip()\n",
        "            if i == 2: pass\n",
        "            if i == 3: metadata[\"badflag\"] = line.split(\":\")[1].strip()\n",
        "            if i == 4: metadata[\"subset\"] = line.split(\":\")[1].strip()\n",
        "            if i == 5: metadata[\"time\"] = line.split(\":\")[1].strip()\n",
        "            if i == 6:\n",
        "                for idx, l in enumerate(line.split('\\t')):\n",
        "                    try:\n",
        "                        if l.strip()=='** line too long **':\n",
        "                            continue\n",
        "                        else:\n",
        "                            longitudes.append(float(l.strip()[:-1]))\n",
        "                    except Exception as e:\n",
        "                        print(l)\n",
        "                        print(e)\n",
        "\n",
        "            if i > 6:\n",
        "                t = line.split('\\t')\n",
        "                lat = t[0]\n",
        "                if(lat[-1]=='S'):\n",
        "                    latval = -1*float(lat[:-1])\n",
        "                else:\n",
        "                    latval = float(lat[:-1])\n",
        "\n",
        "                # print(t)\n",
        "                t = t[1:]\n",
        "                tempvals = []\n",
        "                sizes.append(len(t))\n",
        "            i+=1\n",
        "    return min(sizes), len(longitudes)"
      ]
    },
    {
      "cell_type": "code",
      "execution_count": 5,
      "metadata": {
        "id": "qkbNWXcoqTXw"
      },
      "outputs": [],
      "source": [
        "def process(filepath:str, min_of_max):\n",
        "    '''\n",
        "    Processes a ascii file with gridded data to obtain the required value in the form of [latitude, longitude, value.\n",
        "        Args:\n",
        "            filepath: str\n",
        "        Returns:\n",
        "            metadata: Dict\n",
        "            values: List[List[float]]\n",
        "    '''\n",
        "    metadata = {}\n",
        "    longitudes = []\n",
        "    values = []\n",
        "    sizes = []\n",
        "    i = 0\n",
        "    with open(filepath, 'r') as file:\n",
        "        for line in file:\n",
        "            line = line.strip()\n",
        "            if i == 0: metadata[\"varname\"] = line.split(\":\")[1].strip()\n",
        "            if i == 1: metadata[\"filename\"] = line.split(\":\")[1].strip()\n",
        "            if i == 2: pass\n",
        "            if i == 3: metadata[\"badflag\"] = line.split(\":\")[1].strip()\n",
        "            if i == 4: metadata[\"subset\"] = line.split(\":\")[1].strip()\n",
        "            if i == 5: metadata[\"time\"] = line.split(\":\")[1].strip()\n",
        "            if i == 6:\n",
        "                for idx, l in enumerate(line.split('\\t')):\n",
        "                    if idx == min_of_max:\n",
        "                        break\n",
        "                    try:\n",
        "                        if l.strip()=='** line too long **':\n",
        "                            continue\n",
        "                        else:\n",
        "                            longitudes.append(float(l.strip()[:-1]))\n",
        "                    except Exception as e:\n",
        "                        print(l)\n",
        "                        print(e)\n",
        "                        raise e\n",
        "\n",
        "            if i > 6:\n",
        "                t = line.split('\\t')\n",
        "                lat = t[0]\n",
        "                if(lat[-1]=='S'):\n",
        "                    latval = -1*float(lat[:-1])\n",
        "                else:\n",
        "                    latval = float(lat[:-1])\n",
        "\n",
        "                t = t[1:]\n",
        "                tempvals = []\n",
        "                sizes.append(len(t))\n",
        "                for idx, val in enumerate(t):\n",
        "                    if idx == min_of_max:\n",
        "                        break\n",
        "                    if val.endswith('** line too long **'):\n",
        "                        val = val.replace('** line too long **', '')\n",
        "                        continue\n",
        "                    try:\n",
        "                        if(val==metadata[\"badflag\"]):\n",
        "                            tempvals = [longitudes[idx],latval,-1e34]\n",
        "                        else:\n",
        "                            tempvals = [longitudes[idx],latval,float(val)]\n",
        "                        values.append(tempvals)\n",
        "                    except Exception as e:\n",
        "                        print()\n",
        "                        print(idx)\n",
        "                        print(\"Val\", val)\n",
        "                        print(\"t\", t)\n",
        "                        raise e\n",
        "            i+=1\n",
        "    return metadata, values"
      ]
    },
    {
      "cell_type": "code",
      "execution_count": 6,
      "metadata": {
        "colab": {
          "base_uri": "https://localhost:8080/"
        },
        "id": "b8Pr7r7X_jtR",
        "outputId": "c0de1eee-1713-4f6d-9e2e-08a75484207b"
      },
      "outputs": [
        {
          "name": "stdout",
          "output_type": "stream",
          "text": [
            "983\n"
          ]
        }
      ],
      "source": [
        "file_path = glob.glob('/content/drive/MyDrive/DV_Dataset/*.txt')\n",
        "file_path.sort()\n",
        "\n",
        "metadata_list = []\n",
        "data_list = []\n",
        "for file_path in file_path:\n",
        "    metadata, data = process(filepath=file_path, min_of_max=-1)\n",
        "\n",
        "    metadata_list.append(metadata)\n",
        "    data_list.append(data)\n",
        "\n",
        "date_lst = [\n",
        "    '01-01-2023',\n",
        "    '11-01-2023',\n",
        "    '21-01-2023',\n",
        "    '01-02-2023',\n",
        "    '11-02-2023',\n",
        "    '21-02-2023',\n",
        "    '01-03-2023',\n",
        "    '11-03-2023',\n",
        "]"
      ]
    },
    {
      "cell_type": "code",
      "execution_count": null,
      "metadata": {
        "id": "k3SKN2DlmYOy"
      },
      "outputs": [],
      "source": [
        "for i, data in enumerate(data_list):\n",
        "    longit, latit, values = zip(*data)\n",
        "\n",
        "    latit = np.array(latit)\n",
        "    longit = np.array(longit)\n",
        "    values = np.array(values)\n",
        "    mask = (values < -10)\n",
        "    values[mask] = -1e10\n",
        "\n",
        "    projection = ccrs.PlateCarree()\n",
        "\n",
        "    fig = plt.figure(figsize=(10, 6))\n",
        "    fig, ax = plt.subplots(subplot_kw={'projection': projection})\n",
        "\n",
        "    start_value = -1\n",
        "    stop_value = 32\n",
        "    step_value = 0.05\n",
        "\n",
        "    contour_values = np.arange(start_value, stop_value, step_value)\n",
        "\n",
        "    contour = ax.tricontourf(longit, latit, values, transform=projection, levels=contour_values, cmap='tab10')\n",
        "\n",
        "    ax.coastlines()\n",
        "\n",
        "    cbar = plt.colorbar(contour, ax=ax, shrink=0.7)\n",
        "    cbar.set_label('Value')\n",
        "\n",
        "    ax.set_title(f'Sea Surface Temperature {date_lst[i]}')\n",
        "\n",
        "    contour.colorbar.ax.set_ylabel(\"Temperature Values in Celsius\")\n",
        "\n",
        "    plt.savefig(f'{i+1}.png', dpi=600, bbox_inches='tight')\n",
        "    plt.close()"
      ]
    }
  ],
  "metadata": {
    "colab": {
      "provenance": []
    },
    "kernelspec": {
      "display_name": "Python 3",
      "name": "python3"
    },
    "language_info": {
      "name": "python"
    }
  },
  "nbformat": 4,
  "nbformat_minor": 0
}
